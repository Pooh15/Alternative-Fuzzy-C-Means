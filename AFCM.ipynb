{
 "cells": [
  {
   "cell_type": "code",
   "execution_count": 1,
   "metadata": {},
   "outputs": [],
   "source": [
    "import pandas as pd \n",
    "import numpy as np\n",
    "import random\n",
    "import operator\n",
    "import math\n",
    "import matplotlib.pyplot as plt \n",
    "from scipy.stats import multivariate_normal \n",
    "from collections import defaultdict\n",
    "import warnings\n",
    "warnings.filterwarnings('ignore')"
   ]
  },
  {
   "cell_type": "code",
   "execution_count": 2,
   "metadata": {},
   "outputs": [],
   "source": [
    "col_names = [\"SepalLengthCm\",  \"SepalWidthCm\", \"PetalLengthCm\",\"PetalWidthCm\", \"Class\"]\n",
    "iris = pd.read_csv('iris.data', names = col_names)\n",
    "\n",
    "df = iris.iloc[:,0:4]\n",
    "y = iris.iloc[:,-1]\n",
    "data = iris.iloc[:,:-1].values"
   ]
  },
  {
   "cell_type": "code",
   "execution_count": 3,
   "metadata": {},
   "outputs": [
    {
     "data": {
      "text/plain": [
       "array([5.1, 3.5, 1.4, 0.2])"
      ]
     },
     "execution_count": 3,
     "metadata": {},
     "output_type": "execute_result"
    }
   ],
   "source": [
    "data[0]"
   ]
  },
  {
   "cell_type": "code",
   "execution_count": 4,
   "metadata": {},
   "outputs": [],
   "source": [
    "#number of data\n",
    "n = len(df)\n",
    "\n",
    "#number of clusters\n",
    "k = 3\n",
    "\n",
    "#dimension of cluster\n",
    "d = 4\n",
    "\n",
    "# fuzziness - m parameter\n",
    "m = 2\n",
    "\n",
    "#number of iterations\n",
    "MAX_ITERS = 2"
   ]
  },
  {
   "cell_type": "code",
   "execution_count": 5,
   "metadata": {},
   "outputs": [],
   "source": [
    "def initializeMembershipWeights():\n",
    "    membership_mat = []\n",
    "    np.random.seed(0) #Code B\n",
    "    for i in range(n):\n",
    "        wts = []\n",
    "        sum=0;\n",
    "        for j in range(k):\n",
    "            weight = np.random.random_integers(1,10)\n",
    "            wts.append(weight)\n",
    "            sum = sum + weight\n",
    "        weights = [w/sum for w in wts]\n",
    "        membership_mat.append(weights)\n",
    "    return np.array(membership_mat)"
   ]
  },
  {
   "cell_type": "code",
   "execution_count": 6,
   "metadata": {},
   "outputs": [],
   "source": [
    "def computeCentroids(weight_arr):\n",
    "    C = []\n",
    "    for i in range(k):\n",
    "        weight_sum = np.power(weight_arr[:,i],m).sum()\n",
    "        Cj = []\n",
    "        for x in range(d):\n",
    "            numerator = ( df.iloc[:,x].values).sum()\n",
    "            c_val = numerator/weight_sum;\n",
    "            Cj.append(c_val)\n",
    "        C.append(Cj)\n",
    "    return C "
   ]
  },
  {
   "cell_type": "code",
   "execution_count": null,
   "metadata": {},
   "outputs": [],
   "source": []
  },
  {
   "cell_type": "code",
   "execution_count": null,
   "metadata": {},
   "outputs": [],
   "source": []
  },
  {
   "attachments": {
    "beta.PNG": {
     "image/png": "[encoded data removed]"
    }
   },
   "cell_type": "markdown",
   "metadata": {},
   "source": [
    "![beta.PNG](attachment:beta.PNG)"
   ]
  },
  {
   "cell_type": "code",
   "execution_count": 7,
   "metadata": {},
   "outputs": [],
   "source": [
    "# Another way to calculate Beta.. Using simple for loops\n",
    "def betaG():\n",
    "    mean_vector = []\n",
    "    for dimension in range(d):\n",
    "        columnSum = 0.0\n",
    "        for dataPoint in range(n):\n",
    "            columnSum += data[dataPoint][dimension]\n",
    "        mean_vector.append(columnSum/n)\n",
    "        \n",
    "    total_sum = 0.0\n",
    "#     beta = 0\n",
    "    for dataPoint in range(n):\n",
    "#         total_sum = 0.0\n",
    "        for dimension in range(d):\n",
    "            total_sum += np.sqrt(np.power(data[dataPoint][dimension] - mean_vector[dimension], 2))\n",
    "#         beta += (n/total_sum)  # Shall I use this one ? \n",
    "#     beta = np.power(np.divide(total_sum, n), -1)\n",
    "    beta = n/total_sum   #Or Shall I use this one? \n",
    "    return beta"
   ]
  },
  {
   "cell_type": "code",
   "execution_count": 8,
   "metadata": {},
   "outputs": [
    {
     "data": {
      "text/plain": [
       "0.30849894013475265"
      ]
     },
     "execution_count": 8,
     "metadata": {},
     "output_type": "execute_result"
    }
   ],
   "source": [
    "betaG()"
   ]
  },
  {
   "cell_type": "code",
   "execution_count": 9,
   "metadata": {},
   "outputs": [],
   "source": [
    "def euclidean_dis(x1, x2):\n",
    "    return np.sqrt(np.sum((x1 - x2)**2))"
   ]
  },
  {
   "attachments": {
    "centroid.PNG": {
     "image/png": "[encoded data removed]"
    }
   },
   "cell_type": "markdown",
   "metadata": {},
   "source": [
    "![centroid.PNG](attachment:centroid.PNG)"
   ]
  },
  {
   "cell_type": "code",
   "execution_count": 10,
   "metadata": {},
   "outputs": [],
   "source": [
    "def computeAFCMCentroids(weight_arr, Centroids, data):\n",
    "    C = []\n",
    "    beta = betaG()\n",
    "    uij = []\n",
    "    \n",
    "    #Calculation of uij row by row\n",
    "    for dataPoint in range(len(data)):\n",
    "        uij_row = []\n",
    "        for cluster in range(k):\n",
    "            uij_row.append(np.power(weight_arr[dataPoint][cluster], m))\n",
    "        uij.append(uij_row)\n",
    "        \n",
    "    cluster_center = []\n",
    "    for cluster in range(k):\n",
    "        centroid_row = []\n",
    "        for diamention in range(d):\n",
    "            numerator = 0.0\n",
    "            denominator = 0.0\n",
    "            for dataPoint in range(n):\n",
    "                distance = 1 / (np.exp(-beta * euclidean_dis(data[dataPoint], Centroids[cluster])));\n",
    "                \n",
    "                numerator += uij[dataPoint][cluster] * data[dataPoint][diamention] * distance;\n",
    "                denominator += uij[dataPoint][cluster] * distance;\n",
    "            centroid_row.append(np.divide(numerator, denominator))\n",
    "        cluster_center.append(centroid_row)\n",
    "    return cluster_center"
   ]
  },
  {
   "cell_type": "code",
   "execution_count": 11,
   "metadata": {},
   "outputs": [],
   "source": [
    "# weight_arr = initializeMembershipWeights()\n",
    "# C = computeCentroids(weight_arr)\n",
    "# Centroids = computeAFCMCentroids(weight_arr, C, data)"
   ]
  },
  {
   "cell_type": "code",
   "execution_count": 12,
   "metadata": {},
   "outputs": [],
   "source": [
    "# Centroids"
   ]
  },
  {
   "attachments": {
    "weight.PNG": {
     "image/png": "[encoded data removed]"
    }
   },
   "cell_type": "markdown",
   "metadata": {},
   "source": [
    "![weight.PNG](attachment:weight.PNG)"
   ]
  },
  {
   "cell_type": "markdown",
   "metadata": {},
   "source": [
    "### Another way to calculate weight matrix"
   ]
  },
  {
   "cell_type": "code",
   "execution_count": 13,
   "metadata": {},
   "outputs": [],
   "source": [
    "def get_norm(i, j, centroids):\n",
    "    sum = 0.0\n",
    "    for k in range(d):\n",
    "        sum += np.power(data[i][k] - centroids[j][k], 2)\n",
    "    return np.sqrt(sum)"
   ]
  },
  {
   "cell_type": "code",
   "execution_count": 14,
   "metadata": {},
   "outputs": [],
   "source": [
    "def get_new_value(i, j, centroids):\n",
    "    beta = betaG()\n",
    "    sum = 0.0\n",
    "    p = 1 / (m - 1)\n",
    "    for cluster in range(k):\n",
    "        t = 1/ (1-np.exp(-beta * np.power(get_norm(i, cluster, centroids), 2)))\n",
    "        t = pow(t, p)\n",
    "        sum += t\n",
    "    \n",
    "    numerator = 1 /(1 - np.exp(-beta*np.power(get_norm(i,j, centroids), 2)))\n",
    "    return numerator/sum"
   ]
  },
  {
   "cell_type": "code",
   "execution_count": 15,
   "metadata": {},
   "outputs": [],
   "source": [
    "def update_degree_of_membership(weight_arr, centroids):\n",
    "    \n",
    "    new_uij = []\n",
    "    max_diff = 0.0\n",
    "    for cluster in range(k):\n",
    "        for dataPoint in range(n):\n",
    "            new_uij = get_new_value(dataPoint, cluster, centroids)\n",
    "            diff = new_uij - weight_arr[dataPoint][cluster]\n",
    "            weight_arr[dataPoint][cluster] = new_uij;\n",
    "\n",
    "    return weight_arr"
   ]
  },
  {
   "cell_type": "code",
   "execution_count": 16,
   "metadata": {},
   "outputs": [],
   "source": [
    "# update_degree_of_membership(weight_arr)"
   ]
  },
  {
   "cell_type": "code",
   "execution_count": 17,
   "metadata": {},
   "outputs": [],
   "source": [
    "def plotData(z,C):  \n",
    "    plt.subplot(4,3,z+1)              #scatter plot of Petal length vs Petal width                              \n",
    "    plt.scatter(list(df.iloc[:,2]), list(df.iloc[:,3]), marker='o')    \n",
    "    for center in C:\n",
    "        plt.scatter(center[2],center[3], marker='o',color='r')        \n",
    "    plt.axis('equal')                                                                 \n",
    "    plt.xlabel('Petal Length', fontsize=18)                                                 \n",
    "    plt.ylabel('Petal Width', fontsize=18)                                                                                      \n",
    "    plt.grid() "
   ]
  },
  {
   "cell_type": "code",
   "execution_count": 18,
   "metadata": {},
   "outputs": [],
   "source": [
    "def getClusters(membership_mat): # getting the clusters\n",
    "    cluster_labels = []\n",
    "    for i in range(n):\n",
    "        max_val, idx = max((val, idx) for (idx, val) in enumerate(membership_mat[i]))\n",
    "        cluster_labels.append(idx)\n",
    "    return cluster_labels"
   ]
  },
  {
   "cell_type": "code",
   "execution_count": 19,
   "metadata": {},
   "outputs": [],
   "source": [
    "# If only iterating for 2 times then it will give 80% accuracy. But I increase the iteration, accuracy is getting lower.\n",
    "# Why it is not working with maximum iterations? \n",
    "\n",
    "def FuzzyMeansAlgorithm():\n",
    "    weight_arr = initializeMembershipWeights()\n",
    "    C = computeCentroids(weight_arr)\n",
    "    C = computeAFCMCentroids(weight_arr, C, data)\n",
    "    \n",
    "    acc=[]\n",
    "    for z in range(MAX_ITERS):\n",
    "#         centroids = computeAFCMCentroids(weight_arr, C, data)\n",
    "        weight_arr = update_degree_of_membership(weight_arr, C)\n",
    "        C = computeAFCMCentroids(weight_arr, C, data)\n",
    "        \n",
    "        cluster_labels = getClusters(weight_arr)\n",
    "        acc.append(cluster_labels)\n",
    "    return (weight_arr, C, acc, cluster_labels)"
   ]
  },
  {
   "cell_type": "code",
   "execution_count": null,
   "metadata": {},
   "outputs": [],
   "source": []
  },
  {
   "cell_type": "code",
   "execution_count": 20,
   "metadata": {},
   "outputs": [],
   "source": [
    "final_weights, Centers, acc, labels = FuzzyMeansAlgorithm()"
   ]
  },
  {
   "cell_type": "markdown",
   "metadata": {},
   "source": [
    "## Calculating Accuracy"
   ]
  },
  {
   "cell_type": "code",
   "execution_count": 21,
   "metadata": {},
   "outputs": [],
   "source": [
    "def accuracy(cluster_labels, class_labels):\n",
    "    correct_pred = 0\n",
    "    seto = max(set(labels[0:50]), key=labels[0:50].count)\n",
    "    vers = max(set(labels[50:100]), key=labels[50:100].count)\n",
    "    virg = max(set(labels[100:]), key=labels[100:].count)\n",
    "    \n",
    "    for i in range(len(df)):\n",
    "        if cluster_labels[i] == seto and class_labels[i] == 'Iris-setosa':\n",
    "            correct_pred = correct_pred + 1\n",
    "        if cluster_labels[i] == vers and class_labels[i] == 'Iris-versicolor' and vers!=seto:\n",
    "            correct_pred = correct_pred + 1\n",
    "        if cluster_labels[i] == virg and class_labels[i] == 'Iris-virginica' and virg!=seto and virg!=vers:\n",
    "            correct_pred = correct_pred + 1\n",
    "            \n",
    "    accuracy = (correct_pred/len(df))*100\n",
    "    return accuracy"
   ]
  },
  {
   "cell_type": "code",
   "execution_count": 22,
   "metadata": {},
   "outputs": [],
   "source": [
    "acc_lis = [] \n",
    "for i in range(len(acc)):\n",
    "    val = accuracy(acc[i], y)\n",
    "    acc_lis.append(val)"
   ]
  },
  {
   "cell_type": "code",
   "execution_count": 23,
   "metadata": {},
   "outputs": [
    {
     "name": "stdout",
     "output_type": "stream",
     "text": [
      "Accuracy =>  80.0\n"
     ]
    }
   ],
   "source": [
    "print(\"Accuracy => \", max(acc_lis))"
   ]
  },
  {
   "cell_type": "code",
   "execution_count": null,
   "metadata": {},
   "outputs": [],
   "source": []
  },
  {
   "cell_type": "code",
   "execution_count": null,
   "metadata": {},
   "outputs": [],
   "source": []
  },
  {
   "cell_type": "code",
   "execution_count": null,
   "metadata": {},
   "outputs": [],
   "source": []
  }
 ],
 "metadata": {
  "kernelspec": {
   "display_name": "Python 3",
   "language": "python",
   "name": "python3"
  },
  "language_info": {
   "codemirror_mode": {
    "name": "ipython",
    "version": 3
   },
   "file_extension": ".py",
   "mimetype": "text/x-python",
   "name": "python",
   "nbconvert_exporter": "python",
   "pygments_lexer": "ipython3",
   "version": "3.7.3"
  }
 },
 "nbformat": 4,
 "nbformat_minor": 2
}
